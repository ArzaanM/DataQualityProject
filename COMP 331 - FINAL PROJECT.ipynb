{
 "cells": [
  {
   "cell_type": "markdown",
   "metadata": {},
   "source": [
    "# FINAL PROJECT "
   ]
  },
  {
   "cell_type": "markdown",
   "metadata": {},
   "source": [
    "__Brief Description:__ Dataset used in the project are the stock prices from the year 2014 - 2017. "
   ]
  },
  {
   "cell_type": "markdown",
   "metadata": {},
   "source": [
    "__Goal:__ In this Project I will be working on the above given dataset. I would be following the steps below:\n",
    "\n",
    "1. I will be visualizing the dataset using scatter plot and histogram and grouping the data.\n",
    "2. Performing linear regression and advanced imputation methods to compare the missing data with the original dataset.\n",
    "3. Traning the dataset.\n",
    "4. Performing jaccard similarity between open and close columns of the dataset.\n",
    "6. Anonimization using K-means."
   ]
  },
  {
   "cell_type": "markdown",
   "metadata": {},
   "source": [
    "__Dataset name:__ SP 500 Stock Prices 2014-2017.csv"
   ]
  },
  {
   "cell_type": "markdown",
   "metadata": {},
   "source": [
    "__Aspects of Data Quality:__ The aspects of data quality that I was investigating were:\n",
    "1. Accuracy\n",
    "2. Precision\n",
    "3. Reliability\n",
    "4. Uniqueness\n",
    "5. Legitamacy\n",
    "6. Completeness"
   ]
  },
  {
   "cell_type": "markdown",
   "metadata": {},
   "source": [
    "__Type Of Data:__ The type of data analysed was with respect to the day to day stock market prices from year 2015 - 2017."
   ]
  },
  {
   "cell_type": "markdown",
   "metadata": {},
   "source": [
    "__Key Results:__ The end result was to predict the missing values and visualize and train the model as well as finding the jaccard similarity to get the probability of two columns."
   ]
  },
  {
   "cell_type": "markdown",
   "metadata": {},
   "source": [
    "__Challenges Encountered:__ The challenges I faced were:\n",
    "1. Finding an appropriate dataset.\n",
    "2. Analyzing it in order to predict the missing values.\n",
    "3. Prediction  model was throwing errors so faced difficulty to debug the code and fix the errors."
   ]
  },
  {
   "cell_type": "markdown",
   "metadata": {},
   "source": [
    "# VISUALIZING THE DATASET AND GROUPING DATA"
   ]
  },
  {
   "cell_type": "code",
   "execution_count": 3,
   "metadata": {},
   "outputs": [],
   "source": [
    "#Importing python packages\n",
    "import pandas as pd\n",
    "import matplotlib.pyplot as plt\n",
    "\n",
    "# Enable inline plotting\n",
    "%matplotlib inline"
   ]
  },
  {
   "cell_type": "code",
   "execution_count": 4,
   "metadata": {},
   "outputs": [],
   "source": [
    "#Get dataset from the located folder\n",
    "Location = 'SP 500 Stock Prices 2014-2017.csv'\n",
    "df = pd.read_csv(Location)"
   ]
  },
  {
   "cell_type": "code",
   "execution_count": 5,
   "metadata": {},
   "outputs": [
    {
     "data": {
      "text/html": [
       "<div>\n",
       "<style scoped>\n",
       "    .dataframe tbody tr th:only-of-type {\n",
       "        vertical-align: middle;\n",
       "    }\n",
       "\n",
       "    .dataframe tbody tr th {\n",
       "        vertical-align: top;\n",
       "    }\n",
       "\n",
       "    .dataframe thead th {\n",
       "        text-align: right;\n",
       "    }\n",
       "</style>\n",
       "<table border=\"1\" class=\"dataframe\">\n",
       "  <thead>\n",
       "    <tr style=\"text-align: right;\">\n",
       "      <th></th>\n",
       "      <th>symbol</th>\n",
       "      <th>date</th>\n",
       "      <th>open</th>\n",
       "      <th>high</th>\n",
       "      <th>low</th>\n",
       "      <th>close</th>\n",
       "      <th>volume</th>\n",
       "    </tr>\n",
       "  </thead>\n",
       "  <tbody>\n",
       "    <tr>\n",
       "      <th>0</th>\n",
       "      <td>AAL</td>\n",
       "      <td>2015-01-02</td>\n",
       "      <td>54.3</td>\n",
       "      <td>54.6</td>\n",
       "      <td>53.1</td>\n",
       "      <td>53.9</td>\n",
       "      <td>10756705</td>\n",
       "    </tr>\n",
       "    <tr>\n",
       "      <th>1</th>\n",
       "      <td>AAPL</td>\n",
       "      <td>2015-01-02</td>\n",
       "      <td>111.4</td>\n",
       "      <td>111.4</td>\n",
       "      <td>107.4</td>\n",
       "      <td>109.3</td>\n",
       "      <td>53204626</td>\n",
       "    </tr>\n",
       "    <tr>\n",
       "      <th>2</th>\n",
       "      <td>AAP</td>\n",
       "      <td>2015-01-02</td>\n",
       "      <td>160.9</td>\n",
       "      <td>162.5</td>\n",
       "      <td>157.5</td>\n",
       "      <td>158.6</td>\n",
       "      <td>509983</td>\n",
       "    </tr>\n",
       "    <tr>\n",
       "      <th>3</th>\n",
       "      <td>ABBV</td>\n",
       "      <td>2015-01-02</td>\n",
       "      <td>65.6</td>\n",
       "      <td>66.4</td>\n",
       "      <td>65.5</td>\n",
       "      <td>65.9</td>\n",
       "      <td>5087291</td>\n",
       "    </tr>\n",
       "    <tr>\n",
       "      <th>4</th>\n",
       "      <td>ABC</td>\n",
       "      <td>2015-01-02</td>\n",
       "      <td>90.6</td>\n",
       "      <td>91.3</td>\n",
       "      <td>89.8</td>\n",
       "      <td>90.5</td>\n",
       "      <td>1124780</td>\n",
       "    </tr>\n",
       "  </tbody>\n",
       "</table>\n",
       "</div>"
      ],
      "text/plain": [
       "  symbol        date   open   high    low  close    volume\n",
       "0    AAL  2015-01-02   54.3   54.6   53.1   53.9  10756705\n",
       "1   AAPL  2015-01-02  111.4  111.4  107.4  109.3  53204626\n",
       "2    AAP  2015-01-02  160.9  162.5  157.5  158.6    509983\n",
       "3   ABBV  2015-01-02   65.6   66.4   65.5   65.9   5087291\n",
       "4    ABC  2015-01-02   90.6   91.3   89.8   90.5   1124780"
      ]
     },
     "execution_count": 5,
     "metadata": {},
     "output_type": "execute_result"
    }
   ],
   "source": [
    "#display first 5 values of the dataset\n",
    "df.head()"
   ]
  },
  {
   "cell_type": "code",
   "execution_count": 6,
   "metadata": {},
   "outputs": [
    {
     "data": {
      "text/html": [
       "<div>\n",
       "<style scoped>\n",
       "    .dataframe tbody tr th:only-of-type {\n",
       "        vertical-align: middle;\n",
       "    }\n",
       "\n",
       "    .dataframe tbody tr th {\n",
       "        vertical-align: top;\n",
       "    }\n",
       "\n",
       "    .dataframe thead th {\n",
       "        text-align: right;\n",
       "    }\n",
       "</style>\n",
       "<table border=\"1\" class=\"dataframe\">\n",
       "  <thead>\n",
       "    <tr style=\"text-align: right;\">\n",
       "      <th></th>\n",
       "      <th>symbol</th>\n",
       "      <th>date</th>\n",
       "      <th>open</th>\n",
       "      <th>high</th>\n",
       "      <th>low</th>\n",
       "      <th>close</th>\n",
       "      <th>volume</th>\n",
       "    </tr>\n",
       "  </thead>\n",
       "  <tbody>\n",
       "    <tr>\n",
       "      <th>375070</th>\n",
       "      <td>XYL</td>\n",
       "      <td>2017-12-29</td>\n",
       "      <td>68.5</td>\n",
       "      <td>68.8</td>\n",
       "      <td>67.9</td>\n",
       "      <td>68.2</td>\n",
       "      <td>1046677</td>\n",
       "    </tr>\n",
       "    <tr>\n",
       "      <th>375071</th>\n",
       "      <td>YUM</td>\n",
       "      <td>2017-12-29</td>\n",
       "      <td>82.6</td>\n",
       "      <td>82.7</td>\n",
       "      <td>81.6</td>\n",
       "      <td>81.6</td>\n",
       "      <td>1347613</td>\n",
       "    </tr>\n",
       "    <tr>\n",
       "      <th>375072</th>\n",
       "      <td>ZBH</td>\n",
       "      <td>2017-12-29</td>\n",
       "      <td>121.8</td>\n",
       "      <td>122.0</td>\n",
       "      <td>120.6</td>\n",
       "      <td>120.7</td>\n",
       "      <td>1023624</td>\n",
       "    </tr>\n",
       "    <tr>\n",
       "      <th>375073</th>\n",
       "      <td>ZION</td>\n",
       "      <td>2017-12-29</td>\n",
       "      <td>51.3</td>\n",
       "      <td>51.6</td>\n",
       "      <td>50.8</td>\n",
       "      <td>50.8</td>\n",
       "      <td>1261916</td>\n",
       "    </tr>\n",
       "    <tr>\n",
       "      <th>375074</th>\n",
       "      <td>ZTS</td>\n",
       "      <td>2017-12-29</td>\n",
       "      <td>72.6</td>\n",
       "      <td>72.8</td>\n",
       "      <td>72.0</td>\n",
       "      <td>72.0</td>\n",
       "      <td>1704122</td>\n",
       "    </tr>\n",
       "  </tbody>\n",
       "</table>\n",
       "</div>"
      ],
      "text/plain": [
       "       symbol        date   open   high    low  close   volume\n",
       "375070    XYL  2017-12-29   68.5   68.8   67.9   68.2  1046677\n",
       "375071    YUM  2017-12-29   82.6   82.7   81.6   81.6  1347613\n",
       "375072    ZBH  2017-12-29  121.8  122.0  120.6  120.7  1023624\n",
       "375073   ZION  2017-12-29   51.3   51.6   50.8   50.8  1261916\n",
       "375074    ZTS  2017-12-29   72.6   72.8   72.0   72.0  1704122"
      ]
     },
     "execution_count": 6,
     "metadata": {},
     "output_type": "execute_result"
    }
   ],
   "source": [
    "#display last five values of the dataset\n",
    "df.tail()"
   ]
  },
  {
   "cell_type": "code",
   "execution_count": 7,
   "metadata": {},
   "outputs": [
    {
     "data": {
      "text/html": [
       "<div>\n",
       "<style scoped>\n",
       "    .dataframe tbody tr th:only-of-type {\n",
       "        vertical-align: middle;\n",
       "    }\n",
       "\n",
       "    .dataframe tbody tr th {\n",
       "        vertical-align: top;\n",
       "    }\n",
       "\n",
       "    .dataframe thead th {\n",
       "        text-align: right;\n",
       "    }\n",
       "</style>\n",
       "<table border=\"1\" class=\"dataframe\">\n",
       "  <thead>\n",
       "    <tr style=\"text-align: right;\">\n",
       "      <th></th>\n",
       "      <th>open</th>\n",
       "      <th>high</th>\n",
       "      <th>low</th>\n",
       "      <th>close</th>\n",
       "      <th>volume</th>\n",
       "    </tr>\n",
       "  </thead>\n",
       "  <tbody>\n",
       "    <tr>\n",
       "      <th>count</th>\n",
       "      <td>375064.000000</td>\n",
       "      <td>375066.000000</td>\n",
       "      <td>375067.000000</td>\n",
       "      <td>375075.000000</td>\n",
       "      <td>3.750750e+05</td>\n",
       "    </tr>\n",
       "    <tr>\n",
       "      <th>mean</th>\n",
       "      <td>89.420718</td>\n",
       "      <td>90.233008</td>\n",
       "      <td>88.587322</td>\n",
       "      <td>89.441524</td>\n",
       "      <td>4.282879e+06</td>\n",
       "    </tr>\n",
       "    <tr>\n",
       "      <th>std</th>\n",
       "      <td>106.823876</td>\n",
       "      <td>107.690806</td>\n",
       "      <td>105.912457</td>\n",
       "      <td>106.837736</td>\n",
       "      <td>8.188318e+06</td>\n",
       "    </tr>\n",
       "    <tr>\n",
       "      <th>min</th>\n",
       "      <td>1.600000</td>\n",
       "      <td>1.700000</td>\n",
       "      <td>1.500000</td>\n",
       "      <td>1.600000</td>\n",
       "      <td>0.000000e+00</td>\n",
       "    </tr>\n",
       "    <tr>\n",
       "      <th>25%</th>\n",
       "      <td>42.500000</td>\n",
       "      <td>42.900000</td>\n",
       "      <td>42.000000</td>\n",
       "      <td>42.500000</td>\n",
       "      <td>1.100350e+06</td>\n",
       "    </tr>\n",
       "    <tr>\n",
       "      <th>50%</th>\n",
       "      <td>66.900000</td>\n",
       "      <td>67.600000</td>\n",
       "      <td>66.300000</td>\n",
       "      <td>67.000000</td>\n",
       "      <td>2.118058e+06</td>\n",
       "    </tr>\n",
       "    <tr>\n",
       "      <th>75%</th>\n",
       "      <td>102.100000</td>\n",
       "      <td>103.000000</td>\n",
       "      <td>101.200000</td>\n",
       "      <td>102.200000</td>\n",
       "      <td>4.316751e+06</td>\n",
       "    </tr>\n",
       "    <tr>\n",
       "      <th>max</th>\n",
       "      <td>2044.000000</td>\n",
       "      <td>2068.000000</td>\n",
       "      <td>2035.100000</td>\n",
       "      <td>2049.000000</td>\n",
       "      <td>4.313326e+08</td>\n",
       "    </tr>\n",
       "  </tbody>\n",
       "</table>\n",
       "</div>"
      ],
      "text/plain": [
       "                open           high            low          close  \\\n",
       "count  375064.000000  375066.000000  375067.000000  375075.000000   \n",
       "mean       89.420718      90.233008      88.587322      89.441524   \n",
       "std       106.823876     107.690806     105.912457     106.837736   \n",
       "min         1.600000       1.700000       1.500000       1.600000   \n",
       "25%        42.500000      42.900000      42.000000      42.500000   \n",
       "50%        66.900000      67.600000      66.300000      67.000000   \n",
       "75%       102.100000     103.000000     101.200000     102.200000   \n",
       "max      2044.000000    2068.000000    2035.100000    2049.000000   \n",
       "\n",
       "             volume  \n",
       "count  3.750750e+05  \n",
       "mean   4.282879e+06  \n",
       "std    8.188318e+06  \n",
       "min    0.000000e+00  \n",
       "25%    1.100350e+06  \n",
       "50%    2.118058e+06  \n",
       "75%    4.316751e+06  \n",
       "max    4.313326e+08  "
      ]
     },
     "execution_count": 7,
     "metadata": {},
     "output_type": "execute_result"
    }
   ],
   "source": [
    "#describe helps to find mean median and mode for your dataset\n",
    "df.describe()"
   ]
  },
  {
   "cell_type": "markdown",
   "metadata": {},
   "source": [
    "__DISPLAY PARTICULAR COLUMNS__"
   ]
  },
  {
   "cell_type": "code",
   "execution_count": 8,
   "metadata": {},
   "outputs": [
    {
     "data": {
      "text/plain": [
       "0          AAL\n",
       "1         AAPL\n",
       "2          AAP\n",
       "3         ABBV\n",
       "4          ABC\n",
       "          ... \n",
       "375070     XYL\n",
       "375071     YUM\n",
       "375072     ZBH\n",
       "375073    ZION\n",
       "375074     ZTS\n",
       "Name: symbol, Length: 375075, dtype: object"
      ]
     },
     "execution_count": 8,
     "metadata": {},
     "output_type": "execute_result"
    }
   ],
   "source": [
    "df['symbol']"
   ]
  },
  {
   "cell_type": "code",
   "execution_count": 9,
   "metadata": {},
   "outputs": [
    {
     "data": {
      "text/plain": [
       "0         2015-01-02\n",
       "1         2015-01-02\n",
       "2         2015-01-02\n",
       "3         2015-01-02\n",
       "4         2015-01-02\n",
       "             ...    \n",
       "375070    2017-12-29\n",
       "375071    2017-12-29\n",
       "375072    2017-12-29\n",
       "375073    2017-12-29\n",
       "375074    2017-12-29\n",
       "Name: date, Length: 375075, dtype: object"
      ]
     },
     "execution_count": 9,
     "metadata": {},
     "output_type": "execute_result"
    }
   ],
   "source": [
    "df['date']"
   ]
  },
  {
   "cell_type": "code",
   "execution_count": 10,
   "metadata": {},
   "outputs": [
    {
     "data": {
      "text/plain": [
       "0          54.3\n",
       "1         111.4\n",
       "2         160.9\n",
       "3          65.6\n",
       "4          90.6\n",
       "          ...  \n",
       "375070     68.5\n",
       "375071     82.6\n",
       "375072    121.8\n",
       "375073     51.3\n",
       "375074     72.6\n",
       "Name: open, Length: 375075, dtype: float64"
      ]
     },
     "execution_count": 10,
     "metadata": {},
     "output_type": "execute_result"
    }
   ],
   "source": [
    "df['open']"
   ]
  },
  {
   "cell_type": "code",
   "execution_count": 11,
   "metadata": {},
   "outputs": [
    {
     "data": {
      "text/plain": [
       "0          54.6\n",
       "1         111.4\n",
       "2         162.5\n",
       "3          66.4\n",
       "4          91.3\n",
       "          ...  \n",
       "375070     68.8\n",
       "375071     82.7\n",
       "375072    122.0\n",
       "375073     51.6\n",
       "375074     72.8\n",
       "Name: high, Length: 375075, dtype: float64"
      ]
     },
     "execution_count": 11,
     "metadata": {},
     "output_type": "execute_result"
    }
   ],
   "source": [
    "df['high']"
   ]
  },
  {
   "cell_type": "code",
   "execution_count": 12,
   "metadata": {},
   "outputs": [
    {
     "data": {
      "text/plain": [
       "0          53.1\n",
       "1         107.4\n",
       "2         157.5\n",
       "3          65.5\n",
       "4          89.8\n",
       "          ...  \n",
       "375070     67.9\n",
       "375071     81.6\n",
       "375072    120.6\n",
       "375073     50.8\n",
       "375074     72.0\n",
       "Name: low, Length: 375075, dtype: float64"
      ]
     },
     "execution_count": 12,
     "metadata": {},
     "output_type": "execute_result"
    }
   ],
   "source": [
    "df['low']"
   ]
  },
  {
   "cell_type": "code",
   "execution_count": 13,
   "metadata": {},
   "outputs": [
    {
     "data": {
      "text/plain": [
       "0          53.9\n",
       "1         109.3\n",
       "2         158.6\n",
       "3          65.9\n",
       "4          90.5\n",
       "          ...  \n",
       "375070     68.2\n",
       "375071     81.6\n",
       "375072    120.7\n",
       "375073     50.8\n",
       "375074     72.0\n",
       "Name: close, Length: 375075, dtype: float64"
      ]
     },
     "execution_count": 13,
     "metadata": {},
     "output_type": "execute_result"
    }
   ],
   "source": [
    "df['close']"
   ]
  },
  {
   "cell_type": "code",
   "execution_count": 14,
   "metadata": {},
   "outputs": [
    {
     "data": {
      "text/plain": [
       "0         10756705\n",
       "1         53204626\n",
       "2           509983\n",
       "3          5087291\n",
       "4          1124780\n",
       "            ...   \n",
       "375070     1046677\n",
       "375071     1347613\n",
       "375072     1023624\n",
       "375073     1261916\n",
       "375074     1704122\n",
       "Name: volume, Length: 375075, dtype: int64"
      ]
     },
     "execution_count": 14,
     "metadata": {},
     "output_type": "execute_result"
    }
   ],
   "source": [
    "df['volume']"
   ]
  },
  {
   "cell_type": "markdown",
   "metadata": {},
   "source": [
    "__HISTOGRAM__"
   ]
  },
  {
   "cell_type": "code",
   "execution_count": 15,
   "metadata": {},
   "outputs": [
    {
     "data": {
      "image/png": "[encoded data removed]",
      "text/plain": [
       "<Figure size 432x288 with 1 Axes>"
      ]
     },
     "metadata": {
      "needs_background": "light"
     },
     "output_type": "display_data"
    },
    {
     "data": {
      "image/png": "[encoded data removed]",
      "text/plain": [
       "<Figure size 432x288 with 1 Axes>"
      ]
     },
     "metadata": {
      "needs_background": "light"
     },
     "output_type": "display_data"
    },
    {
     "data": {
      "image/png": "[encoded data removed]",
      "text/plain": [
       "<Figure size 432x288 with 1 Axes>"
      ]
     },
     "metadata": {
      "needs_background": "light"
     },
     "output_type": "display_data"
    },
    {
     "data": {
      "image/png": "[encoded data removed]",
      "text/plain": [
       "<Figure size 432x288 with 1 Axes>"
      ]
     },
     "metadata": {
      "needs_background": "light"
     },
     "output_type": "display_data"
    },
    {
     "data": {
      "image/png": "[encoded data removed]",
      "text/plain": [
       "<Figure size 432x288 with 1 Axes>"
      ]
     },
     "metadata": {
      "needs_background": "light"
     },
     "output_type": "display_data"
    }
   ],
   "source": [
    "plt.figure()\n",
    "df['open'].plot.hist()\n",
    "plt.xlabel('opening price')\n",
    "plt.show()\n",
    "\n",
    "plt.figure()\n",
    "df['high'].plot.hist()\n",
    "plt.xlabel('highest price')\n",
    "plt.show()\n",
    "\n",
    "plt.figure()\n",
    "df['low'].plot.hist()\n",
    "plt.xlabel('lowest price')\n",
    "plt.show()\n",
    "\n",
    "plt.figure()\n",
    "df['close'].plot.hist()\n",
    "plt.xlabel('closing price')\n",
    "plt.show()\n",
    "\n",
    "plt.figure()\n",
    "df['volume'].plot.hist()\n",
    "plt.xlabel('volume per day')\n",
    "plt.show()"
   ]
  },
  {
   "cell_type": "markdown",
   "metadata": {},
   "source": [
    "__SCATTERPLOT__"
   ]
  },
  {
   "cell_type": "code",
   "execution_count": 16,
   "metadata": {},
   "outputs": [
    {
     "data": {
      "text/plain": [
       "<Figure size 432x288 with 0 Axes>"
      ]
     },
     "metadata": {},
     "output_type": "display_data"
    },
    {
     "data": {
      "image/png": "[encoded data removed]",
      "text/plain": [
       "<Figure size 432x288 with 1 Axes>"
      ]
     },
     "metadata": {
      "needs_background": "light"
     },
     "output_type": "display_data"
    },
    {
     "data": {
      "text/plain": [
       "<Figure size 432x288 with 0 Axes>"
      ]
     },
     "metadata": {},
     "output_type": "display_data"
    },
    {
     "data": {
      "image/png": "[encoded data removed]",
      "text/plain": [
       "<Figure size 432x288 with 1 Axes>"
      ]
     },
     "metadata": {
      "needs_background": "light"
     },
     "output_type": "display_data"
    }
   ],
   "source": [
    "plt.figure()\n",
    "df.plot.scatter('open', 'close')\n",
    "plt.xlabel('Opening')\n",
    "plt.ylabel('closing')\n",
    "plt.show()\n",
    "\n",
    "plt.figure()\n",
    "df.plot.scatter('high', 'low')\n",
    "plt.xlabel('Highest prices')\n",
    "plt.ylabel('Lowest prices')\n",
    "plt.show()"
   ]
  },
  {
   "cell_type": "markdown",
   "metadata": {},
   "source": [
    "The above plots show that the dataset has values very much close to each other. As its a stock market dataset it is assumed that there will be a very less fluctuation in prices if you compare the months with each other but we can see that there is a steady increase in the prices leading to profits."
   ]
  },
  {
   "cell_type": "markdown",
   "metadata": {},
   "source": [
    "__GROUPING THE DATA__"
   ]
  },
  {
   "cell_type": "code",
   "execution_count": 17,
   "metadata": {},
   "outputs": [
    {
     "data": {
      "text/html": [
       "<div>\n",
       "<style scoped>\n",
       "    .dataframe tbody tr th:only-of-type {\n",
       "        vertical-align: middle;\n",
       "    }\n",
       "\n",
       "    .dataframe tbody tr th {\n",
       "        vertical-align: top;\n",
       "    }\n",
       "\n",
       "    .dataframe thead th {\n",
       "        text-align: right;\n",
       "    }\n",
       "</style>\n",
       "<table border=\"1\" class=\"dataframe\">\n",
       "  <thead>\n",
       "    <tr style=\"text-align: right;\">\n",
       "      <th></th>\n",
       "      <th>open</th>\n",
       "      <th>high</th>\n",
       "      <th>low</th>\n",
       "      <th>close</th>\n",
       "      <th>volume</th>\n",
       "    </tr>\n",
       "    <tr>\n",
       "      <th>symbol</th>\n",
       "      <th></th>\n",
       "      <th></th>\n",
       "      <th></th>\n",
       "      <th></th>\n",
       "      <th></th>\n",
       "    </tr>\n",
       "  </thead>\n",
       "  <tbody>\n",
       "    <tr>\n",
       "      <th>A</th>\n",
       "      <td>47.408344</td>\n",
       "      <td>47.790331</td>\n",
       "      <td>47.031126</td>\n",
       "      <td>47.425033</td>\n",
       "      <td>2.164874e+06</td>\n",
       "    </tr>\n",
       "    <tr>\n",
       "      <th>AAL</th>\n",
       "      <td>43.614702</td>\n",
       "      <td>44.207417</td>\n",
       "      <td>42.996954</td>\n",
       "      <td>43.597881</td>\n",
       "      <td>8.868182e+06</td>\n",
       "    </tr>\n",
       "    <tr>\n",
       "      <th>AAP</th>\n",
       "      <td>147.309272</td>\n",
       "      <td>148.902119</td>\n",
       "      <td>145.650464</td>\n",
       "      <td>147.272848</td>\n",
       "      <td>1.251493e+06</td>\n",
       "    </tr>\n",
       "    <tr>\n",
       "      <th>AAPL</th>\n",
       "      <td>125.024901</td>\n",
       "      <td>126.007947</td>\n",
       "      <td>123.996424</td>\n",
       "      <td>125.047815</td>\n",
       "      <td>3.914138e+07</td>\n",
       "    </tr>\n",
       "    <tr>\n",
       "      <th>ABBV</th>\n",
       "      <td>65.932185</td>\n",
       "      <td>66.614172</td>\n",
       "      <td>65.254834</td>\n",
       "      <td>65.971391</td>\n",
       "      <td>8.164851e+06</td>\n",
       "    </tr>\n",
       "    <tr>\n",
       "      <th>...</th>\n",
       "      <td>...</td>\n",
       "      <td>...</td>\n",
       "      <td>...</td>\n",
       "      <td>...</td>\n",
       "      <td>...</td>\n",
       "    </tr>\n",
       "    <tr>\n",
       "      <th>XYL</th>\n",
       "      <td>45.704238</td>\n",
       "      <td>46.063311</td>\n",
       "      <td>45.351126</td>\n",
       "      <td>45.730993</td>\n",
       "      <td>1.208430e+06</td>\n",
       "    </tr>\n",
       "    <tr>\n",
       "      <th>YUM</th>\n",
       "      <td>77.073377</td>\n",
       "      <td>77.709404</td>\n",
       "      <td>76.478675</td>\n",
       "      <td>77.118675</td>\n",
       "      <td>3.246407e+06</td>\n",
       "    </tr>\n",
       "    <tr>\n",
       "      <th>ZBH</th>\n",
       "      <td>113.589272</td>\n",
       "      <td>114.535629</td>\n",
       "      <td>112.650464</td>\n",
       "      <td>113.656821</td>\n",
       "      <td>1.387469e+06</td>\n",
       "    </tr>\n",
       "    <tr>\n",
       "      <th>ZION</th>\n",
       "      <td>33.815629</td>\n",
       "      <td>34.194305</td>\n",
       "      <td>33.419735</td>\n",
       "      <td>33.821854</td>\n",
       "      <td>2.852868e+06</td>\n",
       "    </tr>\n",
       "    <tr>\n",
       "      <th>ZTS</th>\n",
       "      <td>51.666755</td>\n",
       "      <td>52.111258</td>\n",
       "      <td>51.197616</td>\n",
       "      <td>51.682119</td>\n",
       "      <td>3.303488e+06</td>\n",
       "    </tr>\n",
       "  </tbody>\n",
       "</table>\n",
       "<p>505 rows × 5 columns</p>\n",
       "</div>"
      ],
      "text/plain": [
       "              open        high         low       close        volume\n",
       "symbol                                                              \n",
       "A        47.408344   47.790331   47.031126   47.425033  2.164874e+06\n",
       "AAL      43.614702   44.207417   42.996954   43.597881  8.868182e+06\n",
       "AAP     147.309272  148.902119  145.650464  147.272848  1.251493e+06\n",
       "AAPL    125.024901  126.007947  123.996424  125.047815  3.914138e+07\n",
       "ABBV     65.932185   66.614172   65.254834   65.971391  8.164851e+06\n",
       "...            ...         ...         ...         ...           ...\n",
       "XYL      45.704238   46.063311   45.351126   45.730993  1.208430e+06\n",
       "YUM      77.073377   77.709404   76.478675   77.118675  3.246407e+06\n",
       "ZBH     113.589272  114.535629  112.650464  113.656821  1.387469e+06\n",
       "ZION     33.815629   34.194305   33.419735   33.821854  2.852868e+06\n",
       "ZTS      51.666755   52.111258   51.197616   51.682119  3.303488e+06\n",
       "\n",
       "[505 rows x 5 columns]"
      ]
     },
     "execution_count": 17,
     "metadata": {},
     "output_type": "execute_result"
    }
   ],
   "source": [
    "# Grouping the data with the symbol\n",
    "grouped = df.groupby('symbol')\n",
    "grouped.mean()"
   ]
  },
  {
   "cell_type": "markdown",
   "metadata": {},
   "source": [
    "# LINEAR REGRESSION"
   ]
  },
  {
   "cell_type": "code",
   "execution_count": 18,
   "metadata": {},
   "outputs": [],
   "source": [
    "import pandas as pd\n",
    "import matplotlib.pyplot as plt\n",
    "from sklearn import linear_model\n",
    "from sklearn.model_selection import train_test_split\n",
    "from sklearn.linear_model import LinearRegression\n",
    "# Enable inline plotting\n",
    "%matplotlib inline"
   ]
  },
  {
   "cell_type": "code",
   "execution_count": 19,
   "metadata": {},
   "outputs": [],
   "source": [
    "#Get dataset from the located folder\n",
    "Location = 'SP 500 Stock Prices 2014-2017.csv'\n",
    "df = pd.read_csv(Location)\n",
    "# filling up the null values so that we dont get error for missing data\n",
    "df.isnull().any()\n",
    "df = df.fillna(method='ffill')"
   ]
  },
  {
   "cell_type": "code",
   "execution_count": 20,
   "metadata": {},
   "outputs": [
    {
     "name": "stdout",
     "output_type": "stream",
     "text": [
      "features (X):\n",
      "    open   high    low  close\n",
      "0   54.3   54.6   53.1   53.9\n",
      "1  111.4  111.4  107.4  109.3\n",
      "2  160.9  162.5  157.5  158.6\n",
      "3   65.6   66.4   65.5   65.9\n",
      "4   90.6   91.3   89.8   90.5\n",
      "outcome variable (y):\n",
      "0    10756705\n",
      "1    53204626\n",
      "2      509983\n",
      "3     5087291\n",
      "4     1124780\n",
      "Name: volume, dtype: int64\n"
     ]
    }
   ],
   "source": [
    "X = df.drop(['symbol', 'date', 'volume'], axis=1)\n",
    "print(\"features (X):\")\n",
    "print(X.head())\n",
    "print(\"outcome variable (y):\")\n",
    "y = df['volume']\n",
    "print(y.head())"
   ]
  },
  {
   "cell_type": "markdown",
   "metadata": {},
   "source": [
    "__TRAINING AND TESTING DATASET__"
   ]
  },
  {
   "cell_type": "code",
   "execution_count": 21,
   "metadata": {},
   "outputs": [],
   "source": [
    "# Data for fitting and learning the regression model\n",
    "X_train = X[0:200000]\n",
    "X_test = X[200000:]\n",
    "\n",
    "y_train = y[0:200000]\n",
    "y_test = y[200000:]"
   ]
  },
  {
   "cell_type": "code",
   "execution_count": 22,
   "metadata": {},
   "outputs": [
    {
     "name": "stdout",
     "output_type": "stream",
     "text": [
      "[ -16110.41702642  469805.12620289 -444643.45551319  -32406.13661139]\n",
      "5658703.643102459\n"
     ]
    }
   ],
   "source": [
    "lm = linear_model.LinearRegression()\n",
    "lm.fit(X_train, y_train)\n",
    "print(lm.coef_)\n",
    "print(lm.intercept_)"
   ]
  },
  {
   "cell_type": "code",
   "execution_count": 23,
   "metadata": {},
   "outputs": [
    {
     "data": {
      "image/png": "[encoded data removed]",
      "text/plain": [
       "<Figure size 432x288 with 1 Axes>"
      ]
     },
     "metadata": {
      "needs_background": "light"
     },
     "output_type": "display_data"
    }
   ],
   "source": [
    "preds = lm.predict(X_test)\n",
    "\n",
    "plt.figure()\n",
    "plt.scatter(y_test, preds)\n",
    "plt.xlabel('actual volume')\n",
    "plt.ylabel('predicted volume')\n",
    "plt.show()"
   ]
  },
  {
   "cell_type": "markdown",
   "metadata": {},
   "source": [
    "__Calculating to mean squared error to see how good the predictions are.__"
   ]
  },
  {
   "cell_type": "code",
   "execution_count": 24,
   "metadata": {},
   "outputs": [
    {
     "name": "stdout",
     "output_type": "stream",
     "text": [
      "MSE:  60173725164351.46\n"
     ]
    }
   ],
   "source": [
    "mse = sum((y_test - preds)**2) / len(preds)\n",
    "print(\"MSE: \", mse)"
   ]
  },
  {
   "cell_type": "markdown",
   "metadata": {},
   "source": [
    "__Comparing the above model with fewer features.__"
   ]
  },
  {
   "cell_type": "code",
   "execution_count": 25,
   "metadata": {},
   "outputs": [
    {
     "name": "stdout",
     "output_type": "stream",
     "text": [
      "MSE:  59990234652272.25\n"
     ]
    }
   ],
   "source": [
    "X_small_train = X_train[['open', 'close']]\n",
    "\n",
    "lm.fit(X_small_train, y_train)\n",
    "preds_2 = lm.predict(X_test[['open', 'close']])\n",
    "\n",
    "mse = sum((y_test - preds_2)**2) / len(preds_2)\n",
    "print(\"MSE: \", mse)"
   ]
  },
  {
   "cell_type": "markdown",
   "metadata": {},
   "source": [
    "# MISSING DATA IMPUTATION"
   ]
  },
  {
   "cell_type": "code",
   "execution_count": 41,
   "metadata": {},
   "outputs": [],
   "source": [
    "import pandas as pd\n",
    "import matplotlib.pyplot as plt\n",
    "from sklearn import linear_model\n",
    "import math\n",
    "import numpy as np\n",
    "\n",
    "# Enable inline plotting\n",
    "%matplotlib inline"
   ]
  },
  {
   "cell_type": "code",
   "execution_count": 68,
   "metadata": {},
   "outputs": [],
   "source": [
    "#Get dataset from the located folder\n",
    "Location = 'SP 500 Stock Prices 2014-2017.csv'\n",
    "df = pd.read_csv(Location)\n",
    "df.isnull().any()\n",
    "df = df.fillna(method='ffill')"
   ]
  },
  {
   "cell_type": "code",
   "execution_count": 69,
   "metadata": {},
   "outputs": [
    {
     "name": "stdout",
     "output_type": "stream",
     "text": [
      "  symbol        date   open   high    low  close    volume\n",
      "0    AAL  2015-01-02   54.3   54.6   53.1   53.9  10756705\n",
      "1   AAPL  2015-01-02  111.4  111.4  107.4  109.3  53204626\n",
      "2    AAP  2015-01-02  160.9  162.5  157.5  158.6    509983\n",
      "3   ABBV  2015-01-02   65.6   66.4   65.5   65.9   5087291\n",
      "4    ABC  2015-01-02   90.6   91.3   89.8   90.5   1124780\n"
     ]
    }
   ],
   "source": [
    "df_complete = df.dropna(axis=0, how='any')\n",
    "print(df_complete.head())"
   ]
  },
  {
   "cell_type": "code",
   "execution_count": 70,
   "metadata": {},
   "outputs": [
    {
     "name": "stdout",
     "output_type": "stream",
     "text": [
      "features (X):\n",
      "    open    low  close    volume\n",
      "0   54.3   53.1   53.9  10756705\n",
      "1  111.4  107.4  109.3  53204626\n",
      "2  160.9  157.5  158.6    509983\n",
      "3   65.6   65.5   65.9   5087291\n",
      "4   90.6   89.8   90.5   1124780\n",
      "\n",
      "\n",
      "outcome variable (y):\n",
      "0     54.6\n",
      "1    111.4\n",
      "2    162.5\n",
      "3     66.4\n",
      "4     91.3\n",
      "Name: high, dtype: float64\n"
     ]
    }
   ],
   "source": [
    "X = df_complete.drop(['symbol', 'date', 'high'], axis=1)\n",
    "print(\"features (X):\")\n",
    "print(X.head())\n",
    "\n",
    "print(\"\\n\\noutcome variable (y):\")\n",
    "y = df_complete['high']\n",
    "print(y.head())"
   ]
  },
  {
   "cell_type": "code",
   "execution_count": 71,
   "metadata": {},
   "outputs": [],
   "source": [
    "lm = linear_model.LinearRegression()"
   ]
  },
  {
   "cell_type": "code",
   "execution_count": 72,
   "metadata": {},
   "outputs": [
    {
     "data": {
      "text/plain": [
       "LinearRegression()"
      ]
     },
     "execution_count": 72,
     "metadata": {},
     "output_type": "execute_result"
    }
   ],
   "source": [
    "lm.fit(X, y)"
   ]
  },
  {
   "cell_type": "code",
   "execution_count": 73,
   "metadata": {},
   "outputs": [
    {
     "name": "stdout",
     "output_type": "stream",
     "text": [
      "[ 6.85113888e-01 -1.98436132e-01  5.19722017e-01  4.25878747e-09]\n",
      "0.04496652697160641\n"
     ]
    }
   ],
   "source": [
    "print(lm.coef_)\n",
    "print(lm.intercept_)"
   ]
  },
  {
   "cell_type": "code",
   "execution_count": 75,
   "metadata": {},
   "outputs": [
    {
     "name": "stdout",
     "output_type": "stream",
     "text": [
      "[ 54.76851929 112.08681676 161.45618417 ... 122.29524745  51.51800619\n",
      "  72.92407603]\n"
     ]
    }
   ],
   "source": [
    "# GETTING THE PREDICTED VALUES.\n",
    "X_all = df.drop(['symbol', 'date', 'high'], axis=1)\n",
    "preds = lm.predict(X_all)\n",
    "print(preds)"
   ]
  },
  {
   "cell_type": "markdown",
   "metadata": {},
   "source": [
    "__INSERTING THE PREDICTED VALUES__"
   ]
  },
  {
   "cell_type": "code",
   "execution_count": 76,
   "metadata": {},
   "outputs": [
    {
     "name": "stdout",
     "output_type": "stream",
     "text": [
      "0          54.6\n",
      "1         111.4\n",
      "2         162.5\n",
      "3          66.4\n",
      "4          91.3\n",
      "          ...  \n",
      "375070     68.8\n",
      "375071     82.7\n",
      "375072    122.0\n",
      "375073     51.6\n",
      "375074     72.8\n",
      "Name: high, Length: 375075, dtype: float64\n"
     ]
    }
   ],
   "source": [
    "df.loc[missing,'high']=preds\n",
    "print(df['high'])"
   ]
  },
  {
   "cell_type": "markdown",
   "metadata": {},
   "source": [
    "# ADVANCED IMPUTATION"
   ]
  },
  {
   "cell_type": "code",
   "execution_count": 78,
   "metadata": {},
   "outputs": [],
   "source": [
    "import pandas as pd\n",
    "import matplotlib.pyplot as plt\n",
    "from sklearn import linear_model\n",
    "from sklearn.neighbors import KNeighborsRegressor\n",
    "from sklearn.neural_network import MLPRegressor\n",
    "from sklearn import preprocessing\n",
    "import math\n",
    "import numpy as np\n",
    "\n",
    "# Enable inline plotting\n",
    "%matplotlib inline"
   ]
  },
  {
   "cell_type": "code",
   "execution_count": 95,
   "metadata": {},
   "outputs": [
    {
     "name": "stdout",
     "output_type": "stream",
     "text": [
      "  symbol        date   open   high    low  close    volume\n",
      "0    AAL  2015-01-02   54.3   54.6   53.1   53.9  10756705\n",
      "1   AAPL  2015-01-02  111.4  111.4  107.4  109.3  53204626\n",
      "2    AAP  2015-01-02  160.9  162.5  157.5  158.6    509983\n",
      "3   ABBV  2015-01-02   65.6   66.4   65.5   65.9   5087291\n",
      "4    ABC  2015-01-02   90.6   91.3   89.8   90.5   1124780\n"
     ]
    }
   ],
   "source": [
    "df = pd.read_csv('SP 500 Stock Prices 2014-2017.csv')\n",
    "print(df.head())\n",
    "df.isnull().any()\n",
    "df = df.fillna(method='ffill')"
   ]
  },
  {
   "cell_type": "code",
   "execution_count": 97,
   "metadata": {},
   "outputs": [
    {
     "name": "stdout",
     "output_type": "stream",
     "text": [
      "  symbol        date   open   high    low  close    volume\n",
      "0    AAL  2015-01-02   54.3   54.6   53.1   53.9  10756705\n",
      "1   AAPL  2015-01-02  111.4  111.4  107.4  109.3  53204626\n",
      "2    AAP  2015-01-02  160.9  162.5  157.5  158.6    509983\n",
      "3   ABBV  2015-01-02   65.6   66.4   65.5   65.9   5087291\n",
      "4    ABC  2015-01-02   90.6   91.3   89.8   90.5   1124780\n"
     ]
    }
   ],
   "source": [
    "df_complete = df.dropna(axis=0, how='any')\n",
    "print(df_complete.head())"
   ]
  },
  {
   "cell_type": "code",
   "execution_count": 98,
   "metadata": {},
   "outputs": [
    {
     "name": "stdout",
     "output_type": "stream",
     "text": [
      "features (X):\n",
      "    open    low  close    volume\n",
      "0   54.3   53.1   53.9  10756705\n",
      "1  111.4  107.4  109.3  53204626\n",
      "2  160.9  157.5  158.6    509983\n",
      "3   65.6   65.5   65.9   5087291\n",
      "4   90.6   89.8   90.5   1124780\n",
      "\n",
      "\n",
      "outcome variable (y):\n",
      "0     54.6\n",
      "1    111.4\n",
      "2    162.5\n",
      "3     66.4\n",
      "4     91.3\n",
      "Name: high, dtype: float64\n"
     ]
    }
   ],
   "source": [
    "X = df_complete.drop(['symbol', 'date', 'high'], axis=1)\n",
    "print(\"features (X):\")\n",
    "print(X.head())\n",
    "\n",
    "print(\"\\n\\noutcome variable (y):\")\n",
    "y = df_complete['high']\n",
    "print(y.head())"
   ]
  },
  {
   "cell_type": "code",
   "execution_count": 99,
   "metadata": {},
   "outputs": [],
   "source": [
    "lm1 = MLPRegressor(hidden_layer_sizes=(100,100,50), solver='lbfgs', max_iter=500, random_state=1)"
   ]
  },
  {
   "cell_type": "code",
   "execution_count": 100,
   "metadata": {},
   "outputs": [
    {
     "data": {
      "text/plain": [
       "MLPRegressor(hidden_layer_sizes=(100, 100, 50), max_iter=500, random_state=1,\n",
       "             solver='lbfgs')"
      ]
     },
     "execution_count": 100,
     "metadata": {},
     "output_type": "execute_result"
    }
   ],
   "source": [
    "lm1.fit(X, y)"
   ]
  },
  {
   "cell_type": "code",
   "execution_count": 104,
   "metadata": {},
   "outputs": [],
   "source": [
    "lm2 = KNeighborsRegressor(20)"
   ]
  },
  {
   "cell_type": "code",
   "execution_count": 105,
   "metadata": {},
   "outputs": [
    {
     "data": {
      "text/plain": [
       "KNeighborsRegressor(n_neighbors=20)"
      ]
     },
     "execution_count": 105,
     "metadata": {},
     "output_type": "execute_result"
    }
   ],
   "source": [
    "lm2.fit(X,y)"
   ]
  },
  {
   "cell_type": "code",
   "execution_count": 108,
   "metadata": {},
   "outputs": [
    {
     "name": "stdout",
     "output_type": "stream",
     "text": [
      "[-0.4648862  -0.34506239 -0.2581792  ... -0.27943017 -0.34612188\n",
      " -0.32864966]\n",
      "[59.31 59.31 59.31 ... 59.31 59.31 59.31]\n"
     ]
    }
   ],
   "source": [
    "# GETTING THE PREDICTED VALUES.\n",
    "X_all = df.drop(['symbol', 'date', 'high'], axis=1)\n",
    "X_all = pd.DataFrame(preprocessing.scale(X_all), columns=X_all.columns)\n",
    "\n",
    "preds1 = lm1.predict(X_all)\n",
    "print(preds1)\n",
    "\n",
    "preds2 = lm2.predict(X_all)\n",
    "print(preds2)\n",
    "\n",
    "missing = df['high'].isnull()"
   ]
  },
  {
   "cell_type": "markdown",
   "metadata": {},
   "source": [
    "# ANONIMYZATION USING K-MEANS"
   ]
  },
  {
   "cell_type": "markdown",
   "metadata": {},
   "source": [
    "__Performing using No Anonymization__"
   ]
  },
  {
   "cell_type": "code",
   "execution_count": 1,
   "metadata": {},
   "outputs": [],
   "source": [
    "import pandas as pd\n",
    "import sklearn\n",
    "from sklearn.model_selection import train_test_split\n",
    "from sklearn import preprocessing\n",
    "\n",
    "from sklearn.neighbors import KNeighborsRegressor\n",
    "\n",
    "from sklearn.metrics import mean_squared_error, r2_score\n",
    "\n",
    "from sklearn.cluster import KMeans\n",
    "\n",
    "import matplotlib.pyplot as plt"
   ]
  },
  {
   "cell_type": "code",
   "execution_count": 2,
   "metadata": {},
   "outputs": [],
   "source": [
    "df = pd.read_csv('SP 500 Stock Prices 2014-2017.csv', parse_dates=['date'])"
   ]
  },
  {
   "cell_type": "code",
   "execution_count": 3,
   "metadata": {},
   "outputs": [],
   "source": [
    "# EXTRACT THE MONTH FROM THE DATE AND USE THAT AS A SEPERATE FEATURE.\n",
    "df['month'] = pd.DatetimeIndex(df['date']).month"
   ]
  },
  {
   "cell_type": "code",
   "execution_count": 4,
   "metadata": {},
   "outputs": [],
   "source": [
    "df['symbol'] = df['symbol'] == 'Major'"
   ]
  },
  {
   "cell_type": "code",
   "execution_count": 5,
   "metadata": {},
   "outputs": [],
   "source": [
    "df = df[~df.volume.isna()]\n",
    "df.fillna(0, inplace=True)"
   ]
  },
  {
   "cell_type": "code",
   "execution_count": 6,
   "metadata": {},
   "outputs": [
    {
     "data": {
      "text/html": [
       "<div>\n",
       "<style scoped>\n",
       "    .dataframe tbody tr th:only-of-type {\n",
       "        vertical-align: middle;\n",
       "    }\n",
       "\n",
       "    .dataframe tbody tr th {\n",
       "        vertical-align: top;\n",
       "    }\n",
       "\n",
       "    .dataframe thead th {\n",
       "        text-align: right;\n",
       "    }\n",
       "</style>\n",
       "<table border=\"1\" class=\"dataframe\">\n",
       "  <thead>\n",
       "    <tr style=\"text-align: right;\">\n",
       "      <th></th>\n",
       "      <th>symbol</th>\n",
       "      <th>date</th>\n",
       "      <th>open</th>\n",
       "      <th>high</th>\n",
       "      <th>low</th>\n",
       "      <th>close</th>\n",
       "      <th>volume</th>\n",
       "      <th>month</th>\n",
       "    </tr>\n",
       "  </thead>\n",
       "  <tbody>\n",
       "    <tr>\n",
       "      <th>0</th>\n",
       "      <td>False</td>\n",
       "      <td>2015-01-02</td>\n",
       "      <td>54.3</td>\n",
       "      <td>54.6</td>\n",
       "      <td>53.1</td>\n",
       "      <td>53.9</td>\n",
       "      <td>10756705</td>\n",
       "      <td>1</td>\n",
       "    </tr>\n",
       "    <tr>\n",
       "      <th>1</th>\n",
       "      <td>False</td>\n",
       "      <td>2015-01-02</td>\n",
       "      <td>111.4</td>\n",
       "      <td>111.4</td>\n",
       "      <td>107.4</td>\n",
       "      <td>109.3</td>\n",
       "      <td>53204626</td>\n",
       "      <td>1</td>\n",
       "    </tr>\n",
       "    <tr>\n",
       "      <th>2</th>\n",
       "      <td>False</td>\n",
       "      <td>2015-01-02</td>\n",
       "      <td>160.9</td>\n",
       "      <td>162.5</td>\n",
       "      <td>157.5</td>\n",
       "      <td>158.6</td>\n",
       "      <td>509983</td>\n",
       "      <td>1</td>\n",
       "    </tr>\n",
       "    <tr>\n",
       "      <th>3</th>\n",
       "      <td>False</td>\n",
       "      <td>2015-01-02</td>\n",
       "      <td>65.6</td>\n",
       "      <td>66.4</td>\n",
       "      <td>65.5</td>\n",
       "      <td>65.9</td>\n",
       "      <td>5087291</td>\n",
       "      <td>1</td>\n",
       "    </tr>\n",
       "    <tr>\n",
       "      <th>4</th>\n",
       "      <td>False</td>\n",
       "      <td>2015-01-02</td>\n",
       "      <td>90.6</td>\n",
       "      <td>91.3</td>\n",
       "      <td>89.8</td>\n",
       "      <td>90.5</td>\n",
       "      <td>1124780</td>\n",
       "      <td>1</td>\n",
       "    </tr>\n",
       "  </tbody>\n",
       "</table>\n",
       "</div>"
      ],
      "text/plain": [
       "   symbol       date   open   high    low  close    volume  month\n",
       "0   False 2015-01-02   54.3   54.6   53.1   53.9  10756705      1\n",
       "1   False 2015-01-02  111.4  111.4  107.4  109.3  53204626      1\n",
       "2   False 2015-01-02  160.9  162.5  157.5  158.6    509983      1\n",
       "3   False 2015-01-02   65.6   66.4   65.5   65.9   5087291      1\n",
       "4   False 2015-01-02   90.6   91.3   89.8   90.5   1124780      1"
      ]
     },
     "execution_count": 6,
     "metadata": {},
     "output_type": "execute_result"
    }
   ],
   "source": [
    "df.head()"
   ]
  },
  {
   "cell_type": "code",
   "execution_count": 7,
   "metadata": {},
   "outputs": [],
   "source": [
    "features = ['open', 'high', 'low', 'close', 'month', 'symbol']\n",
    "X = df[features]"
   ]
  },
  {
   "cell_type": "code",
   "execution_count": 8,
   "metadata": {},
   "outputs": [],
   "source": [
    "y = df['volume']"
   ]
  },
  {
   "cell_type": "code",
   "execution_count": 9,
   "metadata": {},
   "outputs": [],
   "source": [
    "X = preprocessing.StandardScaler().fit_transform(X)"
   ]
  },
  {
   "cell_type": "code",
   "execution_count": 10,
   "metadata": {},
   "outputs": [],
   "source": [
    "# WE ARE USING 1/3RD DATA FOR TESTING AND 2/3RD FOR TRAINING\n",
    "X_train, X_test, y_train, y_test = train_test_split(X, y, test_size=0.33, random_state=42)"
   ]
  },
  {
   "cell_type": "code",
   "execution_count": 12,
   "metadata": {},
   "outputs": [],
   "source": [
    "knn = KNeighborsRegressor(n_neighbors=100)"
   ]
  },
  {
   "cell_type": "code",
   "execution_count": 13,
   "metadata": {},
   "outputs": [
    {
     "data": {
      "text/plain": [
       "KNeighborsRegressor(n_neighbors=100)"
      ]
     },
     "execution_count": 13,
     "metadata": {},
     "output_type": "execute_result"
    }
   ],
   "source": [
    "knn.fit(X_train, y_train)"
   ]
  },
  {
   "cell_type": "code",
   "execution_count": 14,
   "metadata": {},
   "outputs": [],
   "source": [
    "preds = knn.predict(X_test)"
   ]
  },
  {
   "cell_type": "code",
   "execution_count": 15,
   "metadata": {},
   "outputs": [
    {
     "name": "stdout",
     "output_type": "stream",
     "text": [
      "R2 Score (No Anonymization): 0.17744638789184564\n"
     ]
    }
   ],
   "source": [
    "r2_orig = r2_score(y_test, preds)\n",
    "print('R2 Score (No Anonymization):', r2_orig)"
   ]
  },
  {
   "cell_type": "markdown",
   "metadata": {},
   "source": [
    "BASICALLY THE VALUE CLOSE TO 1 IS GOOD BUT IN THIS DATASET WE HAVE A VERY LOW VALUE BECAUSE THE DATA SET IS HUGE AND THE PREDICTED MODEL EXPLAINS A VERY HIGH VARIATIONS IN OUTCOME VARIABLE."
   ]
  },
  {
   "cell_type": "code",
   "execution_count": 16,
   "metadata": {},
   "outputs": [
    {
     "data": {
      "image/png": "[encoded data removed]",
      "text/plain": [
       "<Figure size 432x288 with 1 Axes>"
      ]
     },
     "metadata": {
      "needs_background": "light"
     },
     "output_type": "display_data"
    }
   ],
   "source": [
    "plt.figure()\n",
    "plt.scatter(y_test, preds)\n",
    "plt.xlabel('actual number of volume')\n",
    "plt.ylabel('predicted number of volume')\n",
    "plt.show()"
   ]
  },
  {
   "cell_type": "markdown",
   "metadata": {},
   "source": [
    "__Performing Using Anonimization__"
   ]
  },
  {
   "cell_type": "code",
   "execution_count": 17,
   "metadata": {},
   "outputs": [],
   "source": [
    "k = 120\n",
    "kmeans = KMeans(n_clusters=k, random_state=0).fit(X)"
   ]
  },
  {
   "cell_type": "code",
   "execution_count": 18,
   "metadata": {},
   "outputs": [
    {
     "name": "stdout",
     "output_type": "stream",
     "text": [
      "   symbol       date   open   high    low  close    volume  month  cluster\n",
      "0   False 2015-01-02   54.3   54.6   53.1   53.9  10756705      1       60\n",
      "1   False 2015-01-02  111.4  111.4  107.4  109.3  53204626      1       53\n",
      "2   False 2015-01-02  160.9  162.5  157.5  158.6    509983      1       86\n",
      "3   False 2015-01-02   65.6   66.4   65.5   65.9   5087291      1       35\n",
      "4   False 2015-01-02   90.6   91.3   89.8   90.5   1124780      1       88\n"
     ]
    }
   ],
   "source": [
    "df['cluster'] = kmeans.labels_\n",
    "print(df.head())"
   ]
  },
  {
   "cell_type": "code",
   "execution_count": 19,
   "metadata": {},
   "outputs": [
    {
     "name": "stdout",
     "output_type": "stream",
     "text": [
      "   open_anon  high_anon  low_anon  close_anon  month_anon  symbol_anon  \\\n",
      "0   0.009686   0.009479  0.010023    0.009592    0.712518          0.0   \n",
      "1   9.188935   9.231052  9.098259    9.167399   -1.492796          0.0   \n",
      "2   0.409759   0.409146  0.411069    0.410094   -0.920240          0.0   \n",
      "3  -0.532950  -0.532306 -0.533534   -0.532523   -1.334211          0.0   \n",
      "4   2.694269   2.698122  2.689299    2.691082    1.108215          0.0   \n",
      "\n",
      "   cluster_num  \n",
      "0            0  \n",
      "1            1  \n",
      "2            2  \n",
      "3            3  \n",
      "4            4  \n"
     ]
    }
   ],
   "source": [
    "# cREATING A NEW DATAFRAME TO STORE THE CENTROID VECTOR FOR EACH CLUSTER.\n",
    "feas_anon = [f+'_anon' for f in features]\n",
    "\n",
    "cluster_centers = pd.DataFrame(kmeans.cluster_centers_, columns=feas_anon)\n",
    "cluster_centers['cluster_num'] = cluster_centers.index\n",
    "print(cluster_centers.head())"
   ]
  },
  {
   "cell_type": "code",
   "execution_count": 20,
   "metadata": {},
   "outputs": [],
   "source": [
    "# NOW WE WILL MERGE BOTH THE DATAFRAMES SO THAT WE HAVE A NEW DATAFRAME WHICH CONTAINS BOTH THE ORIGINAL DATA AND ANONIMIZED DATA.\n",
    "df_merge = df.merge(cluster_centers, how='left', left_on='cluster', right_on='cluster_num')"
   ]
  },
  {
   "cell_type": "code",
   "execution_count": 21,
   "metadata": {},
   "outputs": [],
   "source": [
    "new_X = df_merge[feas_anon]\n",
    "new_y = df_merge['volume']"
   ]
  },
  {
   "cell_type": "code",
   "execution_count": 22,
   "metadata": {},
   "outputs": [
    {
     "name": "stdout",
     "output_type": "stream",
     "text": [
      "R2 Score (With Anonymization): 0.06216016406632152\n"
     ]
    }
   ],
   "source": [
    "X_train, X_test, y_train, y_test = train_test_split(new_X, new_y, test_size=0.33, random_state=42)\n",
    "\n",
    "knn = KNeighborsRegressor(n_neighbors=10)\n",
    "\n",
    "knn.fit(X_train, y_train)\n",
    "\n",
    "preds_anon = knn.predict(X_test)\n",
    "\n",
    "r2_anon = r2_score(y_test, preds_anon)\n",
    "\n",
    "print('R2 Score (With Anonymization):', r2_anon)"
   ]
  },
  {
   "cell_type": "markdown",
   "metadata": {},
   "source": [
    "# FINDING JACCARD SIMILARITY"
   ]
  },
  {
   "cell_type": "markdown",
   "metadata": {},
   "source": [
    "TO FIND THE SIMILARITY BETWEEN TWO COLUMNS AND COMPARE THE DATA."
   ]
  },
  {
   "cell_type": "code",
   "execution_count": 23,
   "metadata": {},
   "outputs": [],
   "source": [
    "def jaccard(s1, s2):\n",
    "    intersection = len(set(s1).intersection(s2))\n",
    "    union = len(set(s1)) + len(set(s2)) - intersection\n",
    "    return intersection / union"
   ]
  },
  {
   "cell_type": "code",
   "execution_count": 24,
   "metadata": {},
   "outputs": [
    {
     "data": {
      "text/plain": [
       "0.58"
      ]
     },
     "execution_count": 24,
     "metadata": {},
     "output_type": "execute_result"
    }
   ],
   "source": [
    "round(jaccard(df['open'],df['close']),2)"
   ]
  },
  {
   "cell_type": "markdown",
   "metadata": {},
   "source": [
    "HENCE THE ABOVE VALUE TELLS THAT 58% OF THE DATA ARE SIMILAR IN BOTH COLUMNS."
   ]
  }
 ],
 "metadata": {
  "kernelspec": {
   "display_name": "Python 3",
   "language": "python",
   "name": "python3"
  },
  "language_info": {
   "codemirror_mode": {
    "name": "ipython",
    "version": 3
   },
   "file_extension": ".py",
   "mimetype": "text/x-python",
   "name": "python",
   "nbconvert_exporter": "python",
   "pygments_lexer": "ipython3",
   "version": "3.7.9"
  }
 },
 "nbformat": 4,
 "nbformat_minor": 4
}
